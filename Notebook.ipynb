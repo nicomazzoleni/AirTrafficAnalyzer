{
 "cells": [
  {
   "cell_type": "code",
   "execution_count": 3,
   "id": "27398f8e-4e63-401c-8cbc-fd924a3ae013",
   "metadata": {},
   "outputs": [],
   "source": [
    "from math import radians, cos, sin, asin, sqrt"
   ]
  },
  {
   "cell_type": "code",
   "execution_count": 4,
   "id": "e8db02d6-8563-4d36-83a2-085cabdd9545",
   "metadata": {},
   "outputs": [],
   "source": [
    "import pandas as pd"
   ]
  },
  {
   "cell_type": "code",
   "execution_count": 5,
   "id": "2574813c-0b01-4399-8398-9d1f2eb34203",
   "metadata": {},
   "outputs": [],
   "source": [
    "import os"
   ]
  },
  {
   "cell_type": "code",
   "execution_count": 6,
   "id": "ff7c81a1-5aa3-4608-91b1-fff27450c9cd",
   "metadata": {},
   "outputs": [],
   "source": [
    "import sys\n",
    "sys.path.append('Functions')\n",
    "from distance_calculator import haversine"
   ]
  },
  {
   "cell_type": "code",
   "execution_count": 16,
   "id": "c37df2e0-9137-47ed-b274-62424e536740",
   "metadata": {},
   "outputs": [],
   "source": [
    "class AirTrafficData:\n",
    "    \"\"\"Initializes the class by loading datasets into pandas DataFrames.\"\"\"\n",
    "\n",
    "    def __init__(self):\n",
    "        self.airlines_df = self.load_csv('downloads/airlines.csv')\n",
    "        self.airplanes_df = self.load_csv('downloads/airplanes.csv')\n",
    "        self.airports_df = self.load_csv('downloads/airports.csv')\n",
    "        self.routes_df = self.load_csv('downloads/routes.csv')\n",
    "\n",
    "    def load_csv(self, file_path):\n",
    "        \"\"\"\n",
    "        Loads a CSV file into a pandas DataFrame.\n",
    "\n",
    "        Parameters:\n",
    "        - file_path: The path to the CSV file to load.\n",
    "\n",
    "        Returns:\n",
    "        A pandas DataFrame containing the data from the CSV file.\n",
    "        \"\"\"\n",
    "        if os.path.exists(file_path):\n",
    "            return pd.read_csv(file_path)\n",
    "        else:\n",
    "            raise FileNotFoundError(f\"The file {file_path} does not exist.\")\n",
    "\n",
    "    def calculate_distance(self, airport_code1, airport_code2):\n",
    "        \"\"\"\n",
    "        Calculates the distance between two airports.\n",
    "\n",
    "        Parameters:\n",
    "        - airport_code1: The IATA code of the first airport.\n",
    "        - airport_code2: The IATA code of the second airport.\n",
    "\n",
    "        Returns:\n",
    "        The distance in kilometers between the two airports.\n",
    "        \"\"\"\n",
    "        if airport_code1 not in self.airports_df['IATA'].values or airport_code2 not in self.airports_df['IATA'].values:\n",
    "             return None\n",
    "            \n",
    "        coords1 = self.airports_df[self.airports_df['IATA'] == airport_code1]\\\n",
    "            [['Latitude', 'Longitude']].iloc[0]\n",
    "        coords2 = self.airports_df[self.airports_df['IATA'] == airport_code2]\\\n",
    "            [['Latitude', 'Longitude']].iloc[0]\n",
    "\n",
    "        return haversine(\n",
    "            coords1['Longitude'], coords1['Latitude'], \n",
    "            coords2['Longitude'], coords2['Latitude']\n",
    "        )\n",
    "\n",
    "    def distance_analysis(self):\n",
    "        \"\"\"\n",
    "        Perform distance analysis on routes data.\n",
    "\n",
    "        This method calculates the distances between source and destination airports for each route in the dataset.\n",
    "        It utilizes the calculate_distance method to compute the distance between two airports based on their IATA codes.\n",
    "        The distances are then stored in a new column 'Distance' in the DataFrame.\n",
    "\n",
    "        Returns:\n",
    "        A histogram showing the distribution of distances between source and destination airports.\n",
    "        \"\"\"\n",
    "        routes = self.routes_df[[\"Source airport ID\", \"Destination airport ID\"]]\n",
    "        airports = self.airports_df[[\"Airport ID\", \"IATA\"]].copy()\n",
    "\n",
    "        #Joining dataframes & data cleaning\n",
    "        airports.loc[:, \"Airport ID\"] = airports[\"Airport ID\"].astype(str)\n",
    "        data = routes.merge(airports, left_on=\"Source airport ID\", right_on=\"Airport ID\", how=\"left\") \\\n",
    "             .merge(airports, left_on=\"Destination airport ID\", right_on=\"Airport ID\", how=\"left\")\n",
    "\n",
    "        data.rename(columns={\"IATA_x\": \"Source-IATA\", \"IATA_y\": \"Destination-IATA\"}, inplace=True)\n",
    "        data.drop(columns=[\"Airport ID_x\", \"Airport ID_y\"], inplace=True)\n",
    "\n",
    "        data[\"Distance\"] = data.apply(lambda row: self.calculate_distance(row[\"Source-IATA\"], row[\"Destination-IATA\"]), axis=1)\n",
    "        \n",
    "        return data[\"Distance\"].hist() \n",
    "\n",
    "\n",
    "    def most_used_airplane_models(self, N, country=None):\n",
    "        \"\"\"\n",
    "        Retrieve the N most frequently used airplane models based on the number of routes they operate.\n",
    "\n",
    "        Parameters:\n",
    "        - N (int): The number of airplane models to retrieve.\n",
    "        - country (str or list of str, optional): A string or a list of country names to filter the data. \n",
    "          If provided, only routes from the specified countries will be considered. \n",
    "          If None (default), data from all countries will be included.\n",
    "\n",
    "        Returns:\n",
    "        pandas.Series: A Series containing the counts of routes for each airplane model, \n",
    "        indexed by the airplane model name, sorted in descending order of route counts.\n",
    "        \"\"\"\n",
    "        airports = self.airports_df[[\"Airport ID\", \"Country\", \"IATA\"]]\n",
    "        routes = self.routes_df[[\"Source airport ID\", \"Destination airport ID\"]]\n",
    "        airplanes = self.airplanes_df[[\"Name\",\"IATA code\"]]\n",
    "\n",
    "        #Joining dataframes & data cleaning\n",
    "        airports.loc[:, \"Airport ID\"] = airports[\"Airport ID\"].astype(str)\n",
    "        routes_adv = routes.join(airports.set_index(\"Airport ID\"), on =\"Source airport ID\")\n",
    "        data = routes_adv.join(airplanes.set_index(\"IATA code\"), on =\"IATA\")\n",
    "        data = data[(data[\"Name\"].notna()) & (data[\"IATA\"] != \"\\\\N\")]\n",
    " \n",
    "        if country != None:\n",
    "             if isinstance(country, str):\n",
    "                 country = [country]  \n",
    "             return data[data[\"Country\"].isin(country)].groupby(\"Name\").size().nlargest(N)\n",
    "        else:\n",
    "             return data.groupby(\"Name\").size().nlargest(N)\n",
    "\n",
    "\n",
    "    "
   ]
  },
  {
   "cell_type": "markdown",
   "id": "f518ff74-4ec0-4c6d-852f-161a9b22e78a",
   "metadata": {},
   "source": [
    "**Playground to play around**"
   ]
  },
  {
   "cell_type": "code",
   "execution_count": 17,
   "id": "b4591593-63f5-440e-8cb7-52d50785b8fb",
   "metadata": {},
   "outputs": [],
   "source": [
    "probe = AirTrafficData()"
   ]
  },
  {
   "cell_type": "code",
   "execution_count": 18,
   "id": "7028dd2a-8771-423c-99d4-f2bc28022c96",
   "metadata": {},
   "outputs": [
    {
     "data": {
      "text/plain": [
       "<Axes: >"
      ]
     },
     "execution_count": 18,
     "metadata": {},
     "output_type": "execute_result"
    },
    {
     "data": {
      "image/png": "[encoded data removed]",
      "text/plain": [
       "<Figure size 640x480 with 1 Axes>"
      ]
     },
     "metadata": {},
     "output_type": "display_data"
    }
   ],
   "source": [
    "probe.distance_analysis()"
   ]
  },
  {
   "cell_type": "code",
   "execution_count": null,
   "id": "5155204b-4e33-4202-9353-56875a983ff1",
   "metadata": {},
   "outputs": [],
   "source": []
  }
 ],
 "metadata": {
  "kernelspec": {
   "display_name": "adpro",
   "language": "python",
   "name": "adpro"
  },
  "language_info": {
   "codemirror_mode": {
    "name": "ipython",
    "version": 3
   },
   "file_extension": ".py",
   "mimetype": "text/x-python",
   "name": "python",
   "nbconvert_exporter": "python",
   "pygments_lexer": "ipython3",
   "version": "3.11.7"
  }
 },
 "nbformat": 4,
 "nbformat_minor": 5
}
