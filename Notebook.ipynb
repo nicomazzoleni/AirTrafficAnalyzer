{
 "cells": [
  {
   "cell_type": "code",
   "execution_count": 1,
   "id": "27398f8e-4e63-401c-8cbc-fd924a3ae013",
   "metadata": {},
   "outputs": [],
   "source": [
    "from math import radians, cos, sin, asin, sqrt"
   ]
  },
  {
   "cell_type": "code",
   "execution_count": 16,
   "id": "e8db02d6-8563-4d36-83a2-085cabdd9545",
   "metadata": {},
   "outputs": [],
   "source": [
    "import pandas as pd"
   ]
  },
  {
   "cell_type": "code",
   "execution_count": 14,
   "id": "2574813c-0b01-4399-8398-9d1f2eb34203",
   "metadata": {},
   "outputs": [],
   "source": [
    "import os"
   ]
  },
  {
   "cell_type": "code",
   "execution_count": 7,
   "id": "ff7c81a1-5aa3-4608-91b1-fff27450c9cd",
   "metadata": {},
   "outputs": [],
   "source": [
    "import sys\n",
    "sys.path.append('Functions')\n",
    "from distance_calculator import haversine"
   ]
  },
  {
   "cell_type": "code",
   "execution_count": 25,
   "id": "c37df2e0-9137-47ed-b274-62424e536740",
   "metadata": {},
   "outputs": [],
   "source": [
    "class AirTrafficData:\n",
    "    \"\"\"Initializes the class by loading datasets into pandas DataFrames.\"\"\"\n",
    "\n",
    "    def __init__(self):\n",
    "        self.airlines_df = self.load_csv('downloads/airlines.csv')\n",
    "        self.airplanes_df = self.load_csv('downloads/airplanes.csv')\n",
    "        self.airports_df = self.load_csv('downloads/airports.csv')\n",
    "        self.routes_df = self.load_csv('downloads/routes.csv')\n",
    "\n",
    "    def load_csv(self, file_path):\n",
    "        \"\"\"\n",
    "        Loads a CSV file into a pandas DataFrame.\n",
    "\n",
    "        Parameters:\n",
    "        - file_path: The path to the CSV file to load.\n",
    "\n",
    "        Returns:\n",
    "        A pandas DataFrame containing the data from the CSV file.\n",
    "        \"\"\"\n",
    "        if os.path.exists(file_path):\n",
    "            return pd.read_csv(file_path)\n",
    "        else:\n",
    "            raise FileNotFoundError(f\"The file {file_path} does not exist.\")\n",
    "\n",
    "    def calculate_distance(self, airport_code1, airport_code2):\n",
    "        \"\"\"\n",
    "        Calculates the distance between two airports.\n",
    "\n",
    "        Parameters:\n",
    "        - airport_code1: The IATA code of the first airport.\n",
    "        - airport_code2: The IATA code of the second airport.\n",
    "\n",
    "        Returns:\n",
    "        The distance in kilometers between the two airports.\n",
    "        \"\"\"\n",
    "        coords1 = self.airports_df[self.airports_df['IATA'] == airport_code1]\\\n",
    "            [['Latitude', 'Longitude']].iloc[0]\n",
    "        coords2 = self.airports_df[self.airports_df['IATA'] == airport_code2]\\\n",
    "            [['Latitude', 'Longitude']].iloc[0]\n",
    "\n",
    "        return haversine(\n",
    "            coords1['Longitude'], coords1['Latitude'], \n",
    "            coords2['Longitude'], coords2['Latitude']\n",
    "        )\n",
    "        \n",
    "    def most_used_airplane_models(self, N, country=None):\n",
    "        \"\"\"\n",
    "        Retrieve the N most frequently used airplane models based on the number of routes they operate.\n",
    "\n",
    "        Parameters:\n",
    "        - N (int): The number of airplane models to retrieve.\n",
    "        - country (str or list of str, optional): A string or a list of country names to filter the data. \n",
    "          If provided, only routes from the specified countries will be considered. \n",
    "          If None (default), data from all countries will be included.\n",
    "\n",
    "        Returns:\n",
    "        pandas.Series: A Series containing the counts of routes for each airplane model, \n",
    "        indexed by the airplane model name, sorted in descending order of route counts.\n",
    "        \"\"\"\n",
    "        airports = self.airports_df[[\"Airport ID\", \"Country\", \"IATA\"]]\n",
    "        routes = self.routes_df[[\"Source airport ID\", \"Destination airport ID\"]]\n",
    "        airplanes = self.airplanes_df[[\"Name\",\"IATA code\"]]\n",
    "\n",
    "        #Joining dataframes & data cleaning\n",
    "        airports.loc[:, \"Airport ID\"] = airports[\"Airport ID\"].astype(str)\n",
    "        routes_adv = routes.join(airports.set_index(\"Airport ID\"), on =\"Source airport ID\")\n",
    "        data = routes_adv.join(airplanes.set_index(\"IATA code\"), on =\"IATA\")\n",
    "        data = data[(data[\"Name\"].notna()) & (data[\"IATA\"] != \"\\\\N\")]\n",
    "\n",
    "        \n",
    "        if country != None:\n",
    "             if isinstance(country, str):\n",
    "                 country = [country]  \n",
    "             return data[data[\"Country\"].isin(country)].groupby(\"Name\").size().nlargest(N)\n",
    "        else:\n",
    "             return data.groupby(\"Name\").size().nlargest(N)\n",
    "        \n",
    "        \n",
    "    "
   ]
  },
  {
   "cell_type": "code",
   "execution_count": 26,
   "id": "732c01a0-a73e-45da-afd1-d874b9b4794b",
   "metadata": {},
   "outputs": [],
   "source": [
    "air = AirTrafficData()"
   ]
  },
  {
   "cell_type": "code",
   "execution_count": 27,
   "id": "44525ab4-bcf8-41c0-a03f-745f25ef765d",
   "metadata": {},
   "outputs": [
    {
     "data": {
      "text/plain": [
       "Name\n",
       "Canadair Challenger           31\n",
       "Canadair Regional Jet 1000    13\n",
       "Antonov AN-12                 11\n",
       "dtype: int64"
      ]
     },
     "execution_count": 27,
     "metadata": {},
     "output_type": "execute_result"
    }
   ],
   "source": [
    "air.most_used_airplane_models(3)"
   ]
  }
 ],
 "metadata": {
  "kernelspec": {
   "display_name": "adpro",
   "language": "python",
   "name": "adpro"
  },
  "language_info": {
   "codemirror_mode": {
    "name": "ipython",
    "version": 3
   },
   "file_extension": ".py",
   "mimetype": "text/x-python",
   "name": "python",
   "nbconvert_exporter": "python",
   "pygments_lexer": "ipython3",
   "version": "3.11.7"
  }
 },
 "nbformat": 4,
 "nbformat_minor": 5
}
